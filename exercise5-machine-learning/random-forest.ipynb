{
 "cells": [
  {
   "cell_type": "markdown",
   "id": "5f09c98a",
   "metadata": {},
   "source": [
    "# Supervised methods in machine learning\n",
    "\n",
    "### Overview\n",
    "\n",
    "In this exercise, you will train two models, one using a decision tree and one using random forest, to predict log koff values for inhibitors of p38 MAP kinase.\n",
    "\n",
    "The file data1.csv contains information for 33 small molecules which are inhibitors of p38 MAP kinase.\n",
    "\n",
    "The file contains the following information:\n",
    "\n",
    "    column 1: log of dissociation rate constants (log koff, in log s-1)\n",
    "    column 2: molecular weight (MWT)\n",
    "    column 3: topological polar surface area (TPSA)\n",
    "    column 4: log of octanol-water partition coefficient (logP)\n",
    "    column 5: number of hydrogen bond acceptors (HBA)\n",
    "    column 6: number of hydrogen bond donors (HBD)\n",
    "    column 7: number of heavy atoms\n",
    "    column 8: number of aromatic rings\n",
    "\n",
    "The values for columns 2-8 were obtained using the python library RDkit. "
   ]
  },
  {
   "cell_type": "markdown",
   "id": "c759ffc2",
   "metadata": {},
   "source": [
    "### a) Read koff values and features from file data1.csv."
   ]
  },
  {
   "cell_type": "code",
   "execution_count": 50,
   "id": "c32c80d5",
   "metadata": {},
   "outputs": [
    {
     "name": "stdout",
     "output_type": "stream",
     "text": [
      "Data set\n",
      "     koff      MWT    TPSA     logP  HBA  HBD  atoms  rings\n",
      "0  -0.854  306.797   58.95  4.01500    3    2     21      2\n",
      "1  -5.081  527.669   80.65  5.98642    6    2     39      5\n",
      "2  -0.854  272.352   72.94  2.96882    3    2     20      2\n",
      "3  -4.824  513.642   80.65  5.67800    6    2     38      5\n",
      "4  -3.420  499.615   80.65  5.50390    6    2     37      5\n",
      "5  -3.398  543.668  100.88  4.95882    7    3     40      5\n",
      "6  -2.481  451.571   80.65  4.22580    6    2     33      4\n",
      "7  -4.638  528.657   93.54  5.38142    7    2     39      5\n",
      "8  -4.420  570.738   83.89  6.05242    7    2     42      5\n",
      "9  -4.585  556.711   83.89  5.74400    7    2     41      5\n",
      "10 -2.796  348.450   58.95  5.12222    3    2     26      3\n",
      "11 -3.921  398.510   58.95  6.27542    3    2     30      4\n",
      "12 -4.638  525.697   71.42  6.54022    5    2     39      5\n",
      "13 -2.409  477.609   80.65  4.83322    6    2     35      4\n",
      "14 -3.469  428.536   68.18  6.28402    4    2     32      4\n",
      "15 -3.824  541.696   80.65  6.29484    6    2     40      5\n",
      "16 -1.947  451.530   99.81  5.03900    6    2     34      4\n",
      "17 -1.044  512.900  108.47  5.18960    7    2     36      4\n",
      "18 -3.312  553.598  123.06  6.04800    7    3     41      5\n",
      "19 -1.041  632.664  111.25  5.77240    8    2     46      6\n",
      "20 -0.917  633.700  119.14  4.75320    7    3     46      6\n",
      "21 -0.883  493.615   86.28  4.59032    7    2     37      5\n",
      "22 -1.134  373.460   78.94  4.04410    5    3     28      4\n",
      "23 -2.048  529.526   97.62  6.35584    7    2     39      5\n",
      "24 -1.498  503.488   97.62  5.74842    7    2     37      5\n",
      "25 -2.317  532.570   65.77  4.45602    6    1     39      5\n",
      "26 -1.284  560.680  106.16  5.85650    9    2     40      6\n",
      "27 -1.014  454.870  107.74  5.63812    7    2     32      4\n",
      "28 -4.398  539.709   89.14  6.80880    7    2     39      5\n",
      "29 -5.620  700.290  129.60  7.79580   10    4     48      6\n",
      "30 -3.000  362.477   58.95  5.43064    3    2     27      3\n",
      "31 -2.046  322.412   58.95  4.51480    3    2     24      3\n",
      "32 -1.553  306.797   58.95  4.01500    3    2     21      2\n"
     ]
    },
    {
     "name": "stderr",
     "output_type": "stream",
     "text": [
      "/home/ariane/anaconda3/envs/md/lib/python3.8/site-packages/IPython/core/interactiveshell.py:3398: FutureWarning: In a future version of pandas all arguments of read_csv except for the argument 'filepath_or_buffer' will be keyword-only.\n",
      "  exec(code_obj, self.user_global_ns, self.user_ns)\n"
     ]
    }
   ],
   "source": [
    "import pandas as pd\n",
    "from pandas import *\n",
    "from numpy import *\n",
    "import numpy as np\n",
    "%matplotlib inline \n",
    "import matplotlib\n",
    "import matplotlib.pyplot as plt\n",
    "from matplotlib import style\n",
    "from scipy.optimize import curve_fit\n",
    "from sklearn.linear_model import *\n",
    "from sklearn.model_selection import *\n",
    "from sklearn.tree import *\n",
    "from sklearn.metrics import *\n",
    "\n",
    "features = pd.read_csv('data/data1.csv', ';', usecols=['koff','MWT','TPSA','logP','HBA','HBD','atoms','rings'])\n",
    "features.head(72)\n",
    "print(\"Data set\")\n",
    "print(features)"
   ]
  },
  {
   "cell_type": "markdown",
   "id": "e1b1d077",
   "metadata": {},
   "source": [
    "### b) Determine which values we want to predict (the labels, in our case koff values), and split the dataset into training and test set (20% of the data)."
   ]
  },
  {
   "cell_type": "code",
   "execution_count": 51,
   "id": "e477cdfd",
   "metadata": {},
   "outputs": [],
   "source": [
    "labels = np.array(features['koff'])\n",
    "features= features.drop('koff', axis = 1)\n",
    "feature_list = list(features.columns) \n",
    "features = np.array(features)\n",
    "\n",
    "train_features, test_features, train_labels, test_labels = train_test_split(features, labels, test_size = 0.2, random_state = 7)\n"
   ]
  },
  {
   "cell_type": "markdown",
   "id": "be740731",
   "metadata": {},
   "source": [
    "### c) Build a model to predict koff using the features and one decision tree. Use the model to make predictions for the test set."
   ]
  },
  {
   "cell_type": "code",
   "execution_count": 40,
   "id": "0ed71971",
   "metadata": {},
   "outputs": [],
   "source": [
    "from sklearn.tree import DecisionTreeRegressor\n",
    "dt = DecisionTreeRegressor(max_features = 'log2', random_state = 7)\n",
    "dt.fit(train_features, train_labels)\n",
    "predictions_test_dt = dt.predict(test_features)\n",
    "predictions_train_dt = dt.predict(train_features)"
   ]
  },
  {
   "cell_type": "markdown",
   "id": "34019244",
   "metadata": {},
   "source": [
    "### d) Compute the coefficient of determination (R2) for the training and test set, and plot the results for the model using one decision tree. \n",
    "\n",
    "The closest the value of R2 is to 1.0, the more similar are the experimental and predicted koff values. \n",
    "\n",
    "Decision trees usually show overfitting to the training set, showing a high R2 value for the training set, and a low R2 values for the test set. "
   ]
  },
  {
   "cell_type": "code",
   "execution_count": 45,
   "id": "2f9733e8",
   "metadata": {},
   "outputs": [
    {
     "name": "stdout",
     "output_type": "stream",
     "text": [
      "R2 training set (green): 0.995\n",
      "R2 test set (red): 0.061\n"
     ]
    },
    {
     "data": {
      "image/png": "[encoded data removed]",
      "text/plain": [
       "<Figure size 432x288 with 1 Axes>"
      ]
     },
     "metadata": {
      "needs_background": "light"
     },
     "output_type": "display_data"
    }
   ],
   "source": [
    "from sklearn.metrics import *\n",
    "R2_train = r2_score(train_labels, predictions_train_dt)\n",
    "print('R2 training set (green):',round(R2_train,3))\n",
    "R2_test = r2_score(test_labels, predictions_test_dt)\n",
    "print('R2 test set (red):',round(R2_test,3))\n",
    "\n",
    "plt.plot([-6, 0], [-6, 0], linestyle = '--', color = 'grey')\n",
    "plt.plot(test_labels, predictions_test_dt, 's',markersize = 9, label='test set', color = 'red')\n",
    "plt.plot(train_labels, predictions_train_dt, '^',markersize = 9, label='training set', color ='green')\n",
    "plt.xlabel('experimental log koff (log s-1)', fontsize = 12)\n",
    "plt.ylabel('predicted log koff (log s-1)', fontsize = 12)\n",
    "plt.show()\n"
   ]
  },
  {
   "cell_type": "markdown",
   "id": "1e91da32",
   "metadata": {},
   "source": [
    "### e) Build a model to predict koff using the features and random forest, an ensemble / group of many decision trees. Use the model to make predictions for the test set."
   ]
  },
  {
   "cell_type": "code",
   "execution_count": 42,
   "id": "c522c8bc",
   "metadata": {},
   "outputs": [],
   "source": [
    "from sklearn.ensemble import RandomForestRegressor\n",
    "rf = RandomForestRegressor(n_estimators = 100, max_features = 'log2', random_state = 7)\n",
    "rf.fit(train_features, train_labels)\n",
    "predictions_test = rf.predict(test_features)\n",
    "predictions_train = rf.predict(train_features)"
   ]
  },
  {
   "cell_type": "markdown",
   "id": "fb3d0ada",
   "metadata": {},
   "source": [
    "### f) Compute the R2 for the training and test set, and plot the results for the model using random forest. \n",
    "\n",
    "This model is expected to have a higher R2 value for the test set than the model using decision trees, because the use of a group of decision trees avoids overfitting of the model."
   ]
  },
  {
   "cell_type": "code",
   "execution_count": 44,
   "id": "99439734",
   "metadata": {},
   "outputs": [
    {
     "name": "stdout",
     "output_type": "stream",
     "text": [
      "R2 training set (green): 0.881\n",
      "R2 test set (red): 0.654\n"
     ]
    },
    {
     "data": {
      "image/png": "[encoded data removed]",
      "text/plain": [
       "<Figure size 432x288 with 1 Axes>"
      ]
     },
     "metadata": {
      "needs_background": "light"
     },
     "output_type": "display_data"
    }
   ],
   "source": [
    "R2_train = r2_score(train_labels, predictions_train)\n",
    "print('R2 training set (green):',round(R2_train,3))\n",
    "R2_test = r2_score(test_labels, predictions_test)\n",
    "print('R2 test set (red):',round(R2_test,3))\n",
    "\n",
    "plt.plot([-6, 0], [-6, 0], linestyle = '--', color = 'grey')\n",
    "plt.plot(test_labels, predictions_test, 's',markersize = 9, label='test set', color = 'red')\n",
    "plt.plot(train_labels, predictions_train, '^',markersize = 9, label='training set', color ='green')\n",
    "plt.xlabel('experimental log koff (log s-1)', fontsize = 12)\n",
    "plt.ylabel('predicted log koff (log s-1)', fontsize = 12)\n",
    "plt.show()\n"
   ]
  },
  {
   "cell_type": "markdown",
   "id": "6b441c3e",
   "metadata": {},
   "source": [
    "### Exercise\n",
    "\n",
    "Using the steps above, train two models, one using a decision tree and one using random forest, to predict log koff values for inhibitors of heat shock protein 90. The data provided in the file data2.csv.\n",
    "\n",
    "The file data2.csv contains information for 77 small molecules which are inhibitors of heat shock protein 90 (HSP90). The file data2.csv contains the following information:\n",
    "\n",
    "    column 1: log of dissociation rate constants (log koff, in log s-1)\n",
    "    column 2: molecular weight (MWT)\n",
    "    column 3: number of hydrogen bond acceptors (HBA)\n",
    "    column 4: number of hydrogen bond donors (HBD)\n",
    "    column 5: topological polar surface area (TPSA)\n",
    "    column 6: log of octanol-water partition coefficient (logP)\n",
    "    column 7: molar refractivity\n",
    "    column 8: number of rotatable bonds\n"
   ]
  },
  {
   "cell_type": "code",
   "execution_count": null,
   "id": "518a6393",
   "metadata": {},
   "outputs": [],
   "source": []
  }
 ],
 "metadata": {
  "kernelspec": {
   "display_name": "Python 3 (ipykernel)",
   "language": "python",
   "name": "python3"
  },
  "language_info": {
   "codemirror_mode": {
    "name": "ipython",
    "version": 3
   },
   "file_extension": ".py",
   "mimetype": "text/x-python",
   "name": "python",
   "nbconvert_exporter": "python",
   "pygments_lexer": "ipython3",
   "version": "3.8.13"
  }
 },
 "nbformat": 4,
 "nbformat_minor": 5
}
